{
 "cells": [
  {
   "cell_type": "code",
   "execution_count": 12,
   "source": [
    "\"\"\" Data preparation \"\"\"\r\n",
    "import pandas as pd\r\n",
    "import numpy as np\r\n",
    "from sklearn.pipeline import Pipeline\r\n",
    "from sklearn.preprocessing import StandardScaler\r\n",
    "\r\n",
    "# Anonymous data\r\n",
    "w            = [30,    30,     50,     20,     50,     40,    80,    30,   60,    60,    80,    80, 20, 20]\r\n",
    "l            = [30,    30,     30,     40,     50,     80,    80,    30,   60,    60,    80,    20, 80, 20]\r\n",
    "alt_peak_IC  = [11.43, 16.68,  27.05,  21.08,  40.54,  42.12, 71.94, 4.42, 13.27, 26.85,  25.13, 37.85, 17.60, 19.58]\r\n",
    "ust_peak_IC  = [6.58,  10.29,  17.77,  13.00,  28.37,  29.59, 53.00, 2.61, 9.80,  19.68,  18.97, 25.47, 12.01, 12.44]\r\n",
    "alt_peak_dis = [8.36, 12.74,  23.09,  16.98,  37.08,  38.63, 64.73, 3.22, 11.18, 23.32, 22.01, 32.32, 15.78, 17.32]\r\n",
    "ust_peak_dis = [5.41, 8.97,   16.29,  11.19,  27.07,  28.64, 51.08, 2.15, 8.85,  18.77, 18.07, 24.44, 11.50, 11.40]\r\n",
    "\r\n",
    "W = np.asarray(w*2)\r\n",
    "L = np.asarray(l*2)\r\n",
    "\r\n",
    "IC_param = np.divide(ust_peak_IC,alt_peak_IC)\r\n",
    "dis_param = np.divide(ust_peak_dis,alt_peak_dis)\r\n",
    "params = np.hstack((IC_param,dis_param))\r\n",
    "\r\n",
    "\"\"\" The data is not linearly seperable \"\"\"\r\n",
    "y = [1,1,1,1,1,1,1,1,1,1,1,1,1,1,0,0,0,0,0,0,0,0,0,0,0,0,0,0]\r\n",
    "data = np.asarray([W*L, params, np.asarray(y)])\r\n",
    "X = data[:-1].T"
   ],
   "outputs": [
    {
     "output_type": "stream",
     "name": "stdout",
     "text": [
      "(14, 2)\n"
     ]
    }
   ],
   "metadata": {}
  },
  {
   "cell_type": "code",
   "execution_count": 24,
   "source": [
    "# Visualize the data\r\n",
    "import matplotlib.pyplot as plt\r\n",
    "plt.scatter(X[0:14].T[0],X[0:14].T[1])\r\n",
    "plt.scatter(X[14:28].T[0],X[14:28].T[1], color=\"red\")\r\n",
    "plt.xlabel(\"Feature 1\")\r\n",
    "plt.ylabel(\"Feature 2\")"
   ],
   "outputs": [
    {
     "output_type": "execute_result",
     "data": {
      "text/plain": [
       "Text(0, 0.5, 'Feature 2')"
      ]
     },
     "metadata": {},
     "execution_count": 24
    },
    {
     "output_type": "display_data",
     "data": {
      "text/plain": [
       "<Figure size 432x288 with 1 Axes>"
      ],
      "image/png": "[encoded data removed]"
     },
     "metadata": {
      "needs_background": "light"
     }
    }
   ],
   "metadata": {}
  },
  {
   "cell_type": "code",
   "execution_count": null,
   "source": [
    "from sklearn.tree import DecisionTreeClassifier\r\n",
    "\r\n",
    "tree_clf = DecisionTreeClassifier(min_samples_leaf=4, random_state=42, max_depth=5)\r\n",
    "\"\"\" min_samples_leaf:the minimum number of samples a leaf node must have\r\n",
    "    max_depth: maximum depth of the tree\r\n",
    "    min_samples_split: the minimum number of samples a node must have before it can be split\r\n",
    "\"\"\" \r\n",
    "tree_clf.fit(X, y)\r\n",
    "print(tree_clf.predict(X))\r\n",
    "print(str(tree_clf.score(X,y)*100)+\"%\")"
   ],
   "outputs": [],
   "metadata": {}
  },
  {
   "cell_type": "code",
   "execution_count": null,
   "source": [],
   "outputs": [],
   "metadata": {}
  },
  {
   "cell_type": "code",
   "execution_count": null,
   "source": [],
   "outputs": [],
   "metadata": {}
  },
  {
   "cell_type": "code",
   "execution_count": null,
   "source": [],
   "outputs": [],
   "metadata": {}
  }
 ],
 "metadata": {
  "kernelspec": {
   "name": "python3",
   "display_name": "Python 3.9.5 64-bit"
  },
  "language_info": {
   "codemirror_mode": {
    "name": "ipython",
    "version": 3
   },
   "file_extension": ".py",
   "mimetype": "text/x-python",
   "name": "python",
   "nbconvert_exporter": "python",
   "pygments_lexer": "ipython3",
   "version": "3.9.5"
  },
  "interpreter": {
   "hash": "97cad9cb480d86f3ca8de0c4f298568d69deb974e151861e24c49e60bf27c717"
  }
 },
 "nbformat": 4,
 "nbformat_minor": 5
}